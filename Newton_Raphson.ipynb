{
  "nbformat": 4,
  "nbformat_minor": 0,
  "metadata": {
    "colab": {
      "provenance": [],
      "authorship_tag": "ABX9TyNKUxB3Qjh7/5ABz4lbOKlU",
      "include_colab_link": true
    },
    "kernelspec": {
      "name": "python3",
      "display_name": "Python 3"
    },
    "language_info": {
      "name": "python"
    }
  },
  "cells": [
    {
      "cell_type": "markdown",
      "metadata": {
        "id": "view-in-github",
        "colab_type": "text"
      },
      "source": [
        "<a href=\"https://colab.research.google.com/github/sifat-hossain-niloy/Numerical_Analysis_Lab_3202/blob/main/Newton_Raphson.ipynb\" target=\"_parent\"><img src=\"https://colab.research.google.com/assets/colab-badge.svg\" alt=\"Open In Colab\"/></a>"
      ]
    },
    {
      "cell_type": "code",
      "execution_count": 6,
      "metadata": {
        "colab": {
          "base_uri": "https://localhost:8080/"
        },
        "id": "h2vEEeNHy3Ju",
        "outputId": "8a0ffe1a-ef1c-4510-b724-a6385f3f9a55"
      },
      "outputs": [
        {
          "output_type": "stream",
          "name": "stdout",
          "text": [
            "Iteration 0: x = -5.999999999999985, y = 3.1666666666666625, z = 8.66666666666665\n",
            "Iteration 1: x = -2.4362910974213565, y = 3.1207224392667126, z = 8.844873034810506\n",
            "Iteration 2: x = -3.7001105503287555, y = -2.2813081172244445, z = -3.483767831785485\n",
            "Iteration 3: x = 0.1318643709842897, y = -3.689720024385861, z = -2.299962569085681\n",
            "Iteration 4: x = -0.5254441252506714, y = -1.2663137318923177, z = -2.37442227087913\n",
            "Iteration 5: x = -1.1131162513549846, y = -3.801157331247536, z = 12.14326674764535\n",
            "Iteration 6: x = 10.152960348881383, y = -9.371493071953747, z = 13.648443319289449\n",
            "Iteration 7: x = 1.9272310964387884, y = -9.261855622090218, z = 18.967084965744895\n",
            "Iteration 8: x = 3.9491120753916222, y = -6.14925195387775, z = 32.73425733706904\n",
            "Iteration 9: x = 5.229710172161587, y = -4.0454355575499825, z = 28.190022075868534\n",
            "Iteration 10: x = 6.529854641697542, y = 0.3498744903998725, z = 9.692578458062531\n",
            "Iteration 11: x = 4.329446685533972, y = 0.4039171782445149, z = 6.403648533036743\n",
            "Iteration 12: x = 3.2379254345047204, y = 0.4473359191229039, z = 4.015115846432749\n",
            "Iteration 13: x = 2.6165104305425926, y = 0.5283196328156039, z = 2.4995126374386993\n",
            "Iteration 14: x = 2.184846195319617, y = 0.6591481286144664, z = 1.6348866547356953\n",
            "Iteration 15: x = 1.8148262116998395, y = 0.8143415016353499, z = 1.1660940652512484\n",
            "Iteration 16: x = 1.4271649800193988, y = 0.9603756842410689, z = 0.9331841619991578\n",
            "Iteration 17: x = 0.9636513303104822, y = 1.0696507135730913, z = 0.9186879393336265\n",
            "Iteration 18: x = 0.898974291413276, y = 1.0031215477849427, z = 1.0078497841649312\n",
            "Iteration 19: x = 1.0011303598216597, y = 1.0054122154935525, z = 1.0004138913057705\n",
            "Iteration 20: x = 1.0003233080412886, y = 1.0000345540984221, z = 1.0000396433442627\n",
            "Iteration 21: x = 1.0000395758302472, y = 1.0000000511307783, z = 1.0000000221333831\n",
            "Iteration 22: x = 1.000000021345002, y = 1.000000000784273, z = 1.0000000000039866\n",
            "Iteration 23: x = 1.0000000000039861, y = 1.0000000000000002, z = 1.0\n",
            "Root: [1. 1. 1.]\n"
          ]
        }
      ],
      "source": [
        "import numpy as np\n",
        "\n",
        "def F(x):\n",
        "    # The vector function F\n",
        "    return np.array([\n",
        "        x[0]**2 - 2*x[0] + x[1]**2 - x[2] + 1,\n",
        "        x[0]*(x[1]**2) - x[0] - 3*x[1] + x[1]*x[2] + 2,\n",
        "        x[0]*(x[2]**2) - 3*x[2] + x[1]*(x[2]**2) + x[0]*x[1]\n",
        "    ])\n",
        "\n",
        "def J(x):\n",
        "    # The Jacobian matrix\n",
        "    return np.array([\n",
        "        [2*x[0] - 2, 2*x[1], -1],\n",
        "        [x[1]**2 - 1, 2*x[0]*x[1] - 3 + x[2], x[1]],\n",
        "        [x[2]**2 + x[1], x[2]**2 + x[0], 2*x[0]*x[2] + x[1]]\n",
        "    ])\n",
        "\n",
        "def newton_raphson_system(initial_guess, tol=1e-6, max_iter=100):\n",
        "    X = initial_guess\n",
        "    for i in range(max_iter):\n",
        "        delta_x = np.linalg.solve(J(X), -F(X))\n",
        "        X = X + delta_x\n",
        "        print(f\"Iteration {i}: x = {X[0]}, y = {X[1]}, z = {X[2]}\")\n",
        "        if np.linalg.norm(delta_x) < tol:\n",
        "            return X\n",
        "    return X\n",
        "\n",
        "initial_guess = np.array([1, 2, 3])\n",
        "root = newton_raphson_system(initial_guess)\n",
        "print(\"Root:\", root)\n"
      ]
    }
  ]
}